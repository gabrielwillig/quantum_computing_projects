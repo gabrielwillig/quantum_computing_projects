{
 "cells": [
  {
   "cell_type": "markdown",
   "metadata": {},
   "source": [
    "# 3. Escreva um código que inicializa 8 estados quânticos psi_0, psi_1, ... psi_7 da seguinte maneira.\n",
    "\n",
    "1. Cada psi_i deve ser o produto tensorial da string |i> em binário com o valor |0> ou o valor |1>, dependendo se i é primo ou não, respectivamente.\n",
    "\n",
    "Por exemplo,\n",
    "psi_0 = |000>|0>\n",
    "psi_1= |001>|0>\n",
    "psi_2 = |010>|1>\n",
    "...\n",
    "psi_7 = |111>|1>\n",
    "\n",
    "Para realizar o produto tensorial, utilize obrigatoriamente o método tensor() como em https://learning.quantum.ibm.com/course/basics-of-quantum-information/multiple-systems#tensor-products\n",
    "\n",
    "Imprima, no jupyter, em formato Latex, cada um dos 8 estados.\n",
    "\n",
    "2. Crie um estado psi de 4 qubits que seja a superposição dos 8 estados psi_0, ..., psi_7, cada um com amplitude 1 / sqrt(8). Se tiver dificuldade sobre como preparar essa superposição, consulte: https://quantumcomputing.stackexchange.com/questions/26745/how-to-calculate-the-sum-of-sum-limits-j-langle-ab-j-rangle-c-j\n",
    "\n",
    "3. Realize o seguinte experimento 1000 vezes:\n",
    "\n",
    "a) Meça o 4º qubit. Se for igual a 0, não faça nada.\n",
    "b) Se for igual a 1, meça os outros 3 qubits e incremente um contador associado às ocorrências do número primo correspondente.\n",
    "\n",
    "Após os experimentos, plote um histograma sobre as ocorrências de todos os primos de 2 a 7.\n",
    "\n",
    "Para ver como medir uma faixa específica de qubits, consulte: https://quantumcomputing.stackexchange.com/questions/29342/qiskit-measure-all-or-measure\n",
    "\n",
    "Veja que seu circuito precisará de 4 qubits e 4 bits clássicos ;)"
   ]
  },
  {
   "cell_type": "code",
   "execution_count": 48,
   "metadata": {},
   "outputs": [],
   "source": [
    "from qiskit.quantum_info import Statevector, Operator\n",
    "from numpy import sqrt\n",
    "from IPython.display import display\n",
    "from qiskit import QuantumCircuit"
   ]
  },
  {
   "cell_type": "code",
   "execution_count": 49,
   "metadata": {},
   "outputs": [
    {
     "data": {
      "text/latex": [
       "$$ |01\\rangle$$"
      ],
      "text/plain": [
       "<IPython.core.display.Latex object>"
      ]
     },
     "execution_count": 49,
     "metadata": {},
     "output_type": "execute_result"
    }
   ],
   "source": [
    "zero, one = Statevector.from_label(\"0\"), Statevector.from_label(\"1\")\n",
    "zero.tensor(one).draw(\"latex\")"
   ]
  },
  {
   "cell_type": "code",
   "execution_count": 50,
   "metadata": {},
   "outputs": [
    {
     "data": {
      "text/latex": [
       "$$\\frac{1}{2} |00\\rangle+\\frac{i}{2} |01\\rangle+\\frac{1}{2} |10\\rangle+\\frac{i}{2} |11\\rangle$$"
      ],
      "text/plain": [
       "<IPython.core.display.Latex object>"
      ]
     },
     "execution_count": 50,
     "metadata": {},
     "output_type": "execute_result"
    }
   ],
   "source": [
    "plus = Statevector.from_label(\"+\")\n",
    "i_state = Statevector([1 / sqrt(2), 1j / sqrt(2)])\n",
    "psi = plus.tensor(i_state)\n",
    "\n",
    "psi.draw(\"latex\")   "
   ]
  },
  {
   "cell_type": "code",
   "execution_count": 51,
   "metadata": {},
   "outputs": [],
   "source": [
    "def isPrime(n):\n",
    "    if n==2 or n==3: return True\n",
    "    if n%2==0 or n<2: return False\n",
    "    for i in range(3, int(n**0.5)+1, 2):   # only odd numbers\n",
    "        if n%i==0:\n",
    "            return False    \n",
    "\n",
    "    return True"
   ]
  },
  {
   "cell_type": "code",
   "execution_count": 52,
   "metadata": {},
   "outputs": [],
   "source": [
    "psi = {}\n",
    "counter ={}\n",
    "for i in range(8):\n",
    "    binary = f'{i:03b}'\n",
    "    arg = one if isPrime(i) else zero\n",
    "    psi[i] = Statevector.from_label(binary).tensor(arg)\n",
    "    counter[binary] = 0"
   ]
  },
  {
   "cell_type": "code",
   "execution_count": 53,
   "metadata": {},
   "outputs": [
    {
     "data": {
      "text/latex": [
       "$$ |0000\\rangle$$"
      ],
      "text/plain": [
       "<IPython.core.display.Latex object>"
      ]
     },
     "metadata": {},
     "output_type": "display_data"
    },
    {
     "data": {
      "text/latex": [
       "$$ |0010\\rangle$$"
      ],
      "text/plain": [
       "<IPython.core.display.Latex object>"
      ]
     },
     "metadata": {},
     "output_type": "display_data"
    },
    {
     "data": {
      "text/latex": [
       "$$ |0101\\rangle$$"
      ],
      "text/plain": [
       "<IPython.core.display.Latex object>"
      ]
     },
     "metadata": {},
     "output_type": "display_data"
    },
    {
     "data": {
      "text/latex": [
       "$$ |0111\\rangle$$"
      ],
      "text/plain": [
       "<IPython.core.display.Latex object>"
      ]
     },
     "metadata": {},
     "output_type": "display_data"
    },
    {
     "data": {
      "text/latex": [
       "$$ |1000\\rangle$$"
      ],
      "text/plain": [
       "<IPython.core.display.Latex object>"
      ]
     },
     "metadata": {},
     "output_type": "display_data"
    },
    {
     "data": {
      "text/latex": [
       "$$ |1011\\rangle$$"
      ],
      "text/plain": [
       "<IPython.core.display.Latex object>"
      ]
     },
     "metadata": {},
     "output_type": "display_data"
    },
    {
     "data": {
      "text/latex": [
       "$$ |1100\\rangle$$"
      ],
      "text/plain": [
       "<IPython.core.display.Latex object>"
      ]
     },
     "metadata": {},
     "output_type": "display_data"
    },
    {
     "data": {
      "text/latex": [
       "$$ |1111\\rangle$$"
      ],
      "text/plain": [
       "<IPython.core.display.Latex object>"
      ]
     },
     "metadata": {},
     "output_type": "display_data"
    }
   ],
   "source": [
    "for item in psi:\n",
    "    display(psi[item].draw(\"latex\"))"
   ]
  },
  {
   "cell_type": "code",
   "execution_count": 54,
   "metadata": {},
   "outputs": [
    {
     "data": {
      "text/latex": [
       "$$\\frac{\\sqrt{2}}{4} |0000\\rangle+\\frac{\\sqrt{2}}{4} |0010\\rangle+\\frac{\\sqrt{2}}{4} |0101\\rangle+\\frac{\\sqrt{2}}{4} |0111\\rangle+\\frac{\\sqrt{2}}{4} |1000\\rangle+\\frac{\\sqrt{2}}{4} |1011\\rangle+\\frac{\\sqrt{2}}{4} |1100\\rangle+\\frac{\\sqrt{2}}{4} |1111\\rangle$$"
      ],
      "text/plain": [
       "<IPython.core.display.Latex object>"
      ]
     },
     "metadata": {},
     "output_type": "display_data"
    }
   ],
   "source": [
    "amplitude = 1 / sqrt(8)\n",
    "for key in range(len(psi)-1):\n",
    "    psi[0] += psi[key+1]\n",
    "psi_state = amplitude * psi[0]\n",
    "display(psi_state.draw(\"latex\"))\n"
   ]
  },
  {
   "cell_type": "code",
   "execution_count": 55,
   "metadata": {},
   "outputs": [],
   "source": [
    "for i in range(1000):\n",
    "    result, new_sv = psi_state.measure([0])  # measure qubit 0\n",
    "    if result == '1':\n",
    "        _result, _new_sv = new_sv.measure([1, 2, 3])\n",
    "        counter[_result] += 1"
   ]
  },
  {
   "cell_type": "code",
   "execution_count": 56,
   "metadata": {},
   "outputs": [
    {
     "data": {
      "image/png": "[encoded data removed]",
      "text/plain": [
       "<Figure size 640x480 with 1 Axes>"
      ]
     },
     "execution_count": 56,
     "metadata": {},
     "output_type": "execute_result"
    }
   ],
   "source": [
    "from qiskit.visualization import plot_histogram\n",
    "plot_histogram(counter)"
   ]
  }
 ],
 "metadata": {
  "kernelspec": {
   "display_name": "quantumenv",
   "language": "python",
   "name": "python3"
  },
  "language_info": {
   "codemirror_mode": {
    "name": "ipython",
    "version": 3
   },
   "file_extension": ".py",
   "mimetype": "text/x-python",
   "name": "python",
   "nbconvert_exporter": "python",
   "pygments_lexer": "ipython3",
   "version": "3.13.0"
  }
 },
 "nbformat": 4,
 "nbformat_minor": 2
}
